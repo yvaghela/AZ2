{
 "cells": [
  {
   "cell_type": "code",
   "execution_count": 6,
   "id": "901243a7-21d6-4c01-8e88-63325cb3a665",
   "metadata": {
    "tags": []
   },
   "outputs": [
    {
     "name": "stdout",
     "output_type": "stream",
     "text": [
      "Collecting package metadata (current_repodata.json): done\n",
      "Solving environment: done\n",
      "\n",
      "# All requested packages already installed.\n",
      "\n",
      "Retrieving notices: ...working... done\n",
      "\n",
      "Note: you may need to restart the kernel to use updated packages.\n"
     ]
    }
   ],
   "source": [
    "conda install -c r r-irkernel"
   ]
  },
  {
   "cell_type": "code",
   "execution_count": 2,
   "id": "48c2de09-30b1-4567-a3fe-9eb54fdd6038",
   "metadata": {
    "tags": []
   },
   "outputs": [
    {
     "name": "stderr",
     "output_type": "stream",
     "text": [
      "Updating HTML index of packages in '.Library'\n",
      "Making 'packages.html' ... done\n"
     ]
    }
   ],
   "source": [
    "install.packages(c(\"DBI\", \"dplyr\",\"dbplyr\",\"odbc\"))"
   ]
  },
  {
   "cell_type": "code",
   "execution_count": 3,
   "id": "7f925f01-be9c-4d23-9258-b6a5935be574",
   "metadata": {
    "tags": []
   },
   "outputs": [
    {
     "name": "stderr",
     "output_type": "stream",
     "text": [
      "\n",
      "Attaching package: ‘dplyr’\n",
      "\n",
      "The following objects are masked from ‘package:stats’:\n",
      "\n",
      "    filter, lag\n",
      "\n",
      "The following objects are masked from ‘package:base’:\n",
      "\n",
      "    intersect, setdiff, setequal, union\n",
      "\n",
      "\n",
      "Attaching package: ‘dbplyr’\n",
      "\n",
      "The following objects are masked from ‘package:dplyr’:\n",
      "\n",
      "    ident, sql\n",
      "\n"
     ]
    }
   ],
   "source": [
    "library(DBI)\n",
    "library(dplyr)\n",
    "library(dbplyr)\n",
    "library(odbc)"
   ]
  },
  {
   "cell_type": "code",
   "execution_count": 5,
   "id": "21f99986-9b7d-4399-ae51-f2feefb34baa",
   "metadata": {
    "tags": []
   },
   "outputs": [
    {
     "ename": "ERROR",
     "evalue": "Error: nanodbc/nanodbc.cpp:1118: 00000: [unixODBC][Driver Manager]Can't open lib 'Test2' : file not found \n",
     "output_type": "error",
     "traceback": [
      "Error: nanodbc/nanodbc.cpp:1118: 00000: [unixODBC][Driver Manager]Can't open lib 'Test2' : file not found \nTraceback:\n",
      "1. DBI::dbConnect(odbc::odbc(), Driver = \"Test2\", Server = \"fk72744.us-east-2.aws.snowflakecomputing.com\", \n .     Database = \"HRPCI\", SCHEMA = \"EXAMPLE_SCHEMA\", UID = \"yashrajsingh\", \n .     PWD = \"Unlock2?\", WAREHOUSE = \"COMPUTE_WH\")",
      "2. DBI::dbConnect(odbc::odbc(), Driver = \"Test2\", Server = \"fk72744.us-east-2.aws.snowflakecomputing.com\", \n .     Database = \"HRPCI\", SCHEMA = \"EXAMPLE_SCHEMA\", UID = \"yashrajsingh\", \n .     PWD = \"Unlock2?\", WAREHOUSE = \"COMPUTE_WH\")",
      "3. .local(drv, ...)",
      "4. OdbcConnection(dsn = dsn, ..., timezone = timezone, timezone_out = timezone_out, \n .     encoding = encoding, bigint = bigint, timeout = timeout, \n .     driver = driver, server = server, database = database, uid = uid, \n .     pwd = pwd, dbms.name = dbms.name, attributes = attributes, \n .     .connection_string = .connection_string)",
      "5. odbc_connect(connection_string, timezone = timezone, timezone_out = timezone_out, \n .     encoding = encoding, bigint = bigint, timeout = timeout, \n .     r_attributes_ = attributes)"
     ]
    }
   ],
   "source": [
    "db_connection <- DBI::dbConnect(odbc::odbc(),\n",
    "                         Driver=\"Test2\",\n",
    "                        Server=\"fk72744.us-east-2.aws.snowflakecomputing.com\",\n",
    "                         Database=\"HRPCI\",\n",
    "                         SCHEMA=\"EXAMPLE_SCHEMA\",\n",
    "                         UID=\"yashrajsingh\",\n",
    "                         PWD=\"Unlock2?\",\n",
    "                         WAREHOUSE=\"COMPUTE_WH\")"
   ]
  },
  {
   "cell_type": "code",
   "execution_count": 4,
   "id": "629f008f-24a1-47ea-8bfd-f92e75f5f414",
   "metadata": {
    "tags": []
   },
   "outputs": [
    {
     "ename": "ERROR",
     "evalue": "Error: nanodbc/nanodbc.cpp:1118: 00000: [unixODBC][Driver Manager]Data source name not found and no default driver specified \n",
     "output_type": "error",
     "traceback": [
      "Error: nanodbc/nanodbc.cpp:1118: 00000: [unixODBC][Driver Manager]Data source name not found and no default driver specified \nTraceback:\n",
      "1. DBI::dbConnect(odbc::odbc(), \"Test2\", uid = \"yashrajsingh\", pwd = \"Unlock2?\")",
      "2. DBI::dbConnect(odbc::odbc(), \"Test2\", uid = \"yashrajsingh\", pwd = \"Unlock2?\")",
      "3. .local(drv, ...)",
      "4. OdbcConnection(dsn = dsn, ..., timezone = timezone, timezone_out = timezone_out, \n .     encoding = encoding, bigint = bigint, timeout = timeout, \n .     driver = driver, server = server, database = database, uid = uid, \n .     pwd = pwd, dbms.name = dbms.name, attributes = attributes, \n .     .connection_string = .connection_string)",
      "5. odbc_connect(connection_string, timezone = timezone, timezone_out = timezone_out, \n .     encoding = encoding, bigint = bigint, timeout = timeout, \n .     r_attributes_ = attributes)"
     ]
    }
   ],
   "source": [
    "myconn <- DBI::dbConnect(odbc::odbc(), \"Test2\", uid=\"yashrajsingh\", pwd='Unlock2?')"
   ]
  },
  {
   "cell_type": "code",
   "execution_count": 6,
   "id": "67f4d702-5a58-4220-bbaa-8a17728793fa",
   "metadata": {
    "tags": []
   },
   "outputs": [
    {
     "name": "stderr",
     "output_type": "stream",
     "text": [
      "Warning message:\n",
      "“package ‘snowpark’ is not available (for R version 3.6.1)”"
     ]
    }
   ],
   "source": [
    "install.packages(\"snowpark\")"
   ]
  },
  {
   "cell_type": "code",
   "execution_count": 20,
   "id": "245941f5-c62f-4a2c-a175-f0226b8db9ea",
   "metadata": {
    "tags": []
   },
   "outputs": [
    {
     "ename": "ERROR",
     "evalue": "Error in parse(text = x, srcfile = src): <text>:1:21: unexpected symbol\n1: amazon-linux-extras install\n                        ^\n",
     "output_type": "error",
     "traceback": [
      "Error in parse(text = x, srcfile = src): <text>:1:21: unexpected symbol\n1: amazon-linux-extras install\n                        ^\nTraceback:\n"
     ]
    }
   ],
   "source": []
  },
  {
   "cell_type": "code",
   "execution_count": 7,
   "id": "65be6406-ddaf-473d-b072-ec7e4afc1fe5",
   "metadata": {
    "tags": []
   },
   "outputs": [
    {
     "data": {
      "text/plain": [
       "R version 3.6.1 (2019-07-05)\n",
       "Platform: x86_64-conda_cos6-linux-gnu (64-bit)\n",
       "Running under: Debian GNU/Linux 10 (buster)\n",
       "\n",
       "Matrix products: default\n",
       "BLAS/LAPACK: /opt/conda/lib/R/lib/libRblas.so\n",
       "\n",
       "locale:\n",
       " [1] LC_CTYPE=C.UTF-8       LC_NUMERIC=C           LC_TIME=C.UTF-8       \n",
       " [4] LC_COLLATE=C.UTF-8     LC_MONETARY=C.UTF-8    LC_MESSAGES=C.UTF-8   \n",
       " [7] LC_PAPER=C.UTF-8       LC_NAME=C              LC_ADDRESS=C          \n",
       "[10] LC_TELEPHONE=C         LC_MEASUREMENT=C.UTF-8 LC_IDENTIFICATION=C   \n",
       "\n",
       "attached base packages:\n",
       "[1] stats     graphics  grDevices utils     datasets  methods   base     \n",
       "\n",
       "other attached packages:\n",
       "[1] odbc_1.3.4   dbplyr_2.3.2 dplyr_1.1.1  DBI_1.1.3   \n",
       "\n",
       "loaded via a namespace (and not attached):\n",
       " [1] Rcpp_1.0.1       magrittr_2.0.3   hms_1.1.3        bit_4.0.5       \n",
       " [5] tidyselect_1.2.0 uuid_0.1-2       R6_2.5.1         rlang_1.1.0     \n",
       " [9] fansi_1.0.4      blob_1.2.4       tools_3.6.1      utf8_1.2.3      \n",
       "[13] cli_3.6.1        htmltools_0.3.6  bit64_4.0.5      digest_0.6.18   \n",
       "[17] tibble_3.2.1     lifecycle_1.0.3  crayon_1.3.4     IRdisplay_0.7.0 \n",
       "[21] repr_0.19.2      base64enc_0.1-3  vctrs_0.6.1      IRkernel_0.8.15 \n",
       "[25] glue_1.6.2       evaluate_0.13    pbdZMQ_0.3-3     compiler_3.6.1  \n",
       "[29] pillar_1.9.0     generics_0.1.3   jsonlite_1.6     pkgconfig_2.0.3 "
      ]
     },
     "metadata": {},
     "output_type": "display_data"
    }
   ],
   "source": [
    "sessionInfo()"
   ]
  },
  {
   "cell_type": "code",
   "execution_count": 8,
   "id": "9a94279e-3076-413b-bd09-23878f8e90a2",
   "metadata": {
    "tags": []
   },
   "outputs": [
    {
     "name": "stderr",
     "output_type": "stream",
     "text": [
      "Updating HTML index of packages in '.Library'\n",
      "Making 'packages.html' ... done\n"
     ]
    }
   ],
   "source": [
    "install.packages(\"IRkernel\")\n",
    "IRkernel::installspec(name = \"ir42\", displayname = \"R 4.2.2\")"
   ]
  },
  {
   "cell_type": "code",
   "execution_count": 9,
   "id": "c330adb6-66ba-4ad3-b0b9-0d7007058b3c",
   "metadata": {
    "tags": []
   },
   "outputs": [
    {
     "name": "stderr",
     "output_type": "stream",
     "text": [
      "Updating HTML index of packages in '.Library'\n",
      "Making 'packages.html' ... done\n"
     ]
    }
   ],
   "source": [
    "install.packages(c(\"DBI\", \"dplyr\",\"dbplyr\",\"odbc\"))"
   ]
  },
  {
   "cell_type": "code",
   "execution_count": 2,
   "id": "a2724a35-575a-4181-a1fc-84757005e053",
   "metadata": {
    "tags": []
   },
   "outputs": [],
   "source": [
    "library(DBI)\n",
    "library(odbc)"
   ]
  },
  {
   "cell_type": "code",
   "execution_count": 3,
   "id": "51af8312-588a-40c1-886a-4d4e39966037",
   "metadata": {
    "tags": []
   },
   "outputs": [],
   "source": [
    "dsn_name <- \"Test2\"\n",
    "user <- \"yashrajsingh\"\n",
    "password <- \"Unlock2?\""
   ]
  },
  {
   "cell_type": "code",
   "execution_count": 4,
   "id": "812f65ca-9f2a-462c-9e19-7d01a2706a92",
   "metadata": {
    "tags": []
   },
   "outputs": [
    {
     "ename": "ERROR",
     "evalue": "Error: nanodbc/nanodbc.cpp:1118: 00000: [unixODBC][Driver Manager]Data source name not found and no default driver specified \n",
     "output_type": "error",
     "traceback": [
      "Error: nanodbc/nanodbc.cpp:1118: 00000: [unixODBC][Driver Manager]Data source name not found and no default driver specified \nTraceback:\n",
      "1. DBI::dbConnect(odbc::odbc(), \"Test2\", uid = \"yashrajsingh\", pwd = \"Unlock2?\")",
      "2. DBI::dbConnect(odbc::odbc(), \"Test2\", uid = \"yashrajsingh\", pwd = \"Unlock2?\")",
      "3. .local(drv, ...)",
      "4. OdbcConnection(dsn = dsn, ..., timezone = timezone, timezone_out = timezone_out, \n .     encoding = encoding, bigint = bigint, timeout = timeout, \n .     driver = driver, server = server, database = database, uid = uid, \n .     pwd = pwd, dbms.name = dbms.name, attributes = attributes, \n .     .connection_string = .connection_string)",
      "5. odbc_connect(connection_string, timezone = timezone, timezone_out = timezone_out, \n .     encoding = encoding, bigint = bigint, timeout = timeout, \n .     r_attributes_ = attributes)"
     ]
    }
   ],
   "source": [
    "myconn <- DBI::dbConnect(odbc::odbc(), \"Test2\", uid=\"yashrajsingh\", pwd='Unlock2?')"
   ]
  },
  {
   "cell_type": "code",
   "execution_count": 17,
   "id": "06e874dd-24ee-4149-b166-8402cf7f76a5",
   "metadata": {
    "tags": []
   },
   "outputs": [
    {
     "data": {
      "text/plain": [
       "R version 3.6.1 (2019-07-05)\n",
       "Platform: x86_64-conda_cos6-linux-gnu (64-bit)\n",
       "Running under: Debian GNU/Linux 10 (buster)\n",
       "\n",
       "Matrix products: default\n",
       "BLAS/LAPACK: /opt/conda/lib/R/lib/libRblas.so\n",
       "\n",
       "locale:\n",
       " [1] LC_CTYPE=C.UTF-8       LC_NUMERIC=C           LC_TIME=C.UTF-8       \n",
       " [4] LC_COLLATE=C.UTF-8     LC_MONETARY=C.UTF-8    LC_MESSAGES=C.UTF-8   \n",
       " [7] LC_PAPER=C.UTF-8       LC_NAME=C              LC_ADDRESS=C          \n",
       "[10] LC_TELEPHONE=C         LC_MEASUREMENT=C.UTF-8 LC_IDENTIFICATION=C   \n",
       "\n",
       "attached base packages:\n",
       "[1] stats     graphics  grDevices utils     datasets  methods   base     \n",
       "\n",
       "other attached packages:\n",
       "[1] odbc_1.3.4   dbplyr_2.3.2 dplyr_1.1.1  DBI_1.1.3   \n",
       "\n",
       "loaded via a namespace (and not attached):\n",
       " [1] Rcpp_1.0.1       magrittr_2.0.3   hms_1.1.3        bit_4.0.5       \n",
       " [5] tidyselect_1.2.0 uuid_0.1-2       R6_2.5.1         rlang_1.1.0     \n",
       " [9] fansi_1.0.4      blob_1.2.4       tools_3.6.1      utf8_1.2.3      \n",
       "[13] cli_3.6.1        htmltools_0.3.6  bit64_4.0.5      digest_0.6.18   \n",
       "[17] tibble_3.2.1     lifecycle_1.0.3  crayon_1.3.4     IRdisplay_0.7.0 \n",
       "[21] repr_0.19.2      base64enc_0.1-3  vctrs_0.6.1      IRkernel_1.3.2  \n",
       "[25] glue_1.6.2       evaluate_0.13    pbdZMQ_0.3-3     compiler_3.6.1  \n",
       "[29] pillar_1.9.0     generics_0.1.3   jsonlite_1.6     pkgconfig_2.0.3 "
      ]
     },
     "metadata": {},
     "output_type": "display_data"
    }
   ],
   "source": [
    "sessionInfo()"
   ]
  },
  {
   "cell_type": "code",
   "execution_count": null,
   "id": "83704d80-575a-454d-9bda-57be5a36c92e",
   "metadata": {},
   "outputs": [],
   "source": []
  }
 ],
 "metadata": {
  "availableInstances": [
   {
    "_defaultOrder": 0,
    "_isFastLaunch": true,
    "category": "General purpose",
    "gpuNum": 0,
    "memoryGiB": 4,
    "name": "ml.t3.medium",
    "vcpuNum": 2
   },
   {
    "_defaultOrder": 1,
    "_isFastLaunch": false,
    "category": "General purpose",
    "gpuNum": 0,
    "memoryGiB": 8,
    "name": "ml.t3.large",
    "vcpuNum": 2
   },
   {
    "_defaultOrder": 2,
    "_isFastLaunch": false,
    "category": "General purpose",
    "gpuNum": 0,
    "memoryGiB": 16,
    "name": "ml.t3.xlarge",
    "vcpuNum": 4
   },
   {
    "_defaultOrder": 3,
    "_isFastLaunch": false,
    "category": "General purpose",
    "gpuNum": 0,
    "memoryGiB": 32,
    "name": "ml.t3.2xlarge",
    "vcpuNum": 8
   },
   {
    "_defaultOrder": 4,
    "_isFastLaunch": true,
    "category": "General purpose",
    "gpuNum": 0,
    "memoryGiB": 8,
    "name": "ml.m5.large",
    "vcpuNum": 2
   },
   {
    "_defaultOrder": 5,
    "_isFastLaunch": false,
    "category": "General purpose",
    "gpuNum": 0,
    "memoryGiB": 16,
    "name": "ml.m5.xlarge",
    "vcpuNum": 4
   },
   {
    "_defaultOrder": 6,
    "_isFastLaunch": false,
    "category": "General purpose",
    "gpuNum": 0,
    "memoryGiB": 32,
    "name": "ml.m5.2xlarge",
    "vcpuNum": 8
   },
   {
    "_defaultOrder": 7,
    "_isFastLaunch": false,
    "category": "General purpose",
    "gpuNum": 0,
    "memoryGiB": 64,
    "name": "ml.m5.4xlarge",
    "vcpuNum": 16
   },
   {
    "_defaultOrder": 8,
    "_isFastLaunch": false,
    "category": "General purpose",
    "gpuNum": 0,
    "memoryGiB": 128,
    "name": "ml.m5.8xlarge",
    "vcpuNum": 32
   },
   {
    "_defaultOrder": 9,
    "_isFastLaunch": false,
    "category": "General purpose",
    "gpuNum": 0,
    "memoryGiB": 192,
    "name": "ml.m5.12xlarge",
    "vcpuNum": 48
   },
   {
    "_defaultOrder": 10,
    "_isFastLaunch": false,
    "category": "General purpose",
    "gpuNum": 0,
    "memoryGiB": 256,
    "name": "ml.m5.16xlarge",
    "vcpuNum": 64
   },
   {
    "_defaultOrder": 11,
    "_isFastLaunch": false,
    "category": "General purpose",
    "gpuNum": 0,
    "memoryGiB": 384,
    "name": "ml.m5.24xlarge",
    "vcpuNum": 96
   },
   {
    "_defaultOrder": 12,
    "_isFastLaunch": false,
    "category": "General purpose",
    "gpuNum": 0,
    "memoryGiB": 8,
    "name": "ml.m5d.large",
    "vcpuNum": 2
   },
   {
    "_defaultOrder": 13,
    "_isFastLaunch": false,
    "category": "General purpose",
    "gpuNum": 0,
    "memoryGiB": 16,
    "name": "ml.m5d.xlarge",
    "vcpuNum": 4
   },
   {
    "_defaultOrder": 14,
    "_isFastLaunch": false,
    "category": "General purpose",
    "gpuNum": 0,
    "memoryGiB": 32,
    "name": "ml.m5d.2xlarge",
    "vcpuNum": 8
   },
   {
    "_defaultOrder": 15,
    "_isFastLaunch": false,
    "category": "General purpose",
    "gpuNum": 0,
    "memoryGiB": 64,
    "name": "ml.m5d.4xlarge",
    "vcpuNum": 16
   },
   {
    "_defaultOrder": 16,
    "_isFastLaunch": false,
    "category": "General purpose",
    "gpuNum": 0,
    "memoryGiB": 128,
    "name": "ml.m5d.8xlarge",
    "vcpuNum": 32
   },
   {
    "_defaultOrder": 17,
    "_isFastLaunch": false,
    "category": "General purpose",
    "gpuNum": 0,
    "memoryGiB": 192,
    "name": "ml.m5d.12xlarge",
    "vcpuNum": 48
   },
   {
    "_defaultOrder": 18,
    "_isFastLaunch": false,
    "category": "General purpose",
    "gpuNum": 0,
    "memoryGiB": 256,
    "name": "ml.m5d.16xlarge",
    "vcpuNum": 64
   },
   {
    "_defaultOrder": 19,
    "_isFastLaunch": false,
    "category": "General purpose",
    "gpuNum": 0,
    "memoryGiB": 384,
    "name": "ml.m5d.24xlarge",
    "vcpuNum": 96
   },
   {
    "_defaultOrder": 20,
    "_isFastLaunch": true,
    "category": "Compute optimized",
    "gpuNum": 0,
    "memoryGiB": 4,
    "name": "ml.c5.large",
    "vcpuNum": 2
   },
   {
    "_defaultOrder": 21,
    "_isFastLaunch": false,
    "category": "Compute optimized",
    "gpuNum": 0,
    "memoryGiB": 8,
    "name": "ml.c5.xlarge",
    "vcpuNum": 4
   },
   {
    "_defaultOrder": 22,
    "_isFastLaunch": false,
    "category": "Compute optimized",
    "gpuNum": 0,
    "memoryGiB": 16,
    "name": "ml.c5.2xlarge",
    "vcpuNum": 8
   },
   {
    "_defaultOrder": 23,
    "_isFastLaunch": false,
    "category": "Compute optimized",
    "gpuNum": 0,
    "memoryGiB": 32,
    "name": "ml.c5.4xlarge",
    "vcpuNum": 16
   },
   {
    "_defaultOrder": 24,
    "_isFastLaunch": false,
    "category": "Compute optimized",
    "gpuNum": 0,
    "memoryGiB": 72,
    "name": "ml.c5.9xlarge",
    "vcpuNum": 36
   },
   {
    "_defaultOrder": 25,
    "_isFastLaunch": false,
    "category": "Compute optimized",
    "gpuNum": 0,
    "memoryGiB": 96,
    "name": "ml.c5.12xlarge",
    "vcpuNum": 48
   },
   {
    "_defaultOrder": 26,
    "_isFastLaunch": false,
    "category": "Compute optimized",
    "gpuNum": 0,
    "memoryGiB": 144,
    "name": "ml.c5.18xlarge",
    "vcpuNum": 72
   },
   {
    "_defaultOrder": 27,
    "_isFastLaunch": false,
    "category": "Compute optimized",
    "gpuNum": 0,
    "memoryGiB": 192,
    "name": "ml.c5.24xlarge",
    "vcpuNum": 96
   },
   {
    "_defaultOrder": 28,
    "_isFastLaunch": true,
    "category": "Accelerated computing",
    "gpuNum": 1,
    "memoryGiB": 16,
    "name": "ml.g4dn.xlarge",
    "vcpuNum": 4
   },
   {
    "_defaultOrder": 29,
    "_isFastLaunch": false,
    "category": "Accelerated computing",
    "gpuNum": 1,
    "memoryGiB": 32,
    "name": "ml.g4dn.2xlarge",
    "vcpuNum": 8
   },
   {
    "_defaultOrder": 30,
    "_isFastLaunch": false,
    "category": "Accelerated computing",
    "gpuNum": 1,
    "memoryGiB": 64,
    "name": "ml.g4dn.4xlarge",
    "vcpuNum": 16
   },
   {
    "_defaultOrder": 31,
    "_isFastLaunch": false,
    "category": "Accelerated computing",
    "gpuNum": 1,
    "memoryGiB": 128,
    "name": "ml.g4dn.8xlarge",
    "vcpuNum": 32
   },
   {
    "_defaultOrder": 32,
    "_isFastLaunch": false,
    "category": "Accelerated computing",
    "gpuNum": 4,
    "memoryGiB": 192,
    "name": "ml.g4dn.12xlarge",
    "vcpuNum": 48
   },
   {
    "_defaultOrder": 33,
    "_isFastLaunch": false,
    "category": "Accelerated computing",
    "gpuNum": 1,
    "memoryGiB": 256,
    "name": "ml.g4dn.16xlarge",
    "vcpuNum": 64
   },
   {
    "_defaultOrder": 34,
    "_isFastLaunch": false,
    "category": "Accelerated computing",
    "gpuNum": 1,
    "memoryGiB": 61,
    "name": "ml.p3.2xlarge",
    "vcpuNum": 8
   },
   {
    "_defaultOrder": 35,
    "_isFastLaunch": false,
    "category": "Accelerated computing",
    "gpuNum": 4,
    "memoryGiB": 244,
    "name": "ml.p3.8xlarge",
    "vcpuNum": 32
   },
   {
    "_defaultOrder": 36,
    "_isFastLaunch": false,
    "category": "Accelerated computing",
    "gpuNum": 8,
    "memoryGiB": 488,
    "name": "ml.p3.16xlarge",
    "vcpuNum": 64
   },
   {
    "_defaultOrder": 37,
    "_isFastLaunch": false,
    "category": "Accelerated computing",
    "gpuNum": 8,
    "memoryGiB": 768,
    "name": "ml.p3dn.24xlarge",
    "vcpuNum": 96
   },
   {
    "_defaultOrder": 38,
    "_isFastLaunch": false,
    "category": "Memory Optimized",
    "gpuNum": 0,
    "memoryGiB": 16,
    "name": "ml.r5.large",
    "vcpuNum": 2
   },
   {
    "_defaultOrder": 39,
    "_isFastLaunch": false,
    "category": "Memory Optimized",
    "gpuNum": 0,
    "memoryGiB": 32,
    "name": "ml.r5.xlarge",
    "vcpuNum": 4
   },
   {
    "_defaultOrder": 40,
    "_isFastLaunch": false,
    "category": "Memory Optimized",
    "gpuNum": 0,
    "memoryGiB": 64,
    "name": "ml.r5.2xlarge",
    "vcpuNum": 8
   },
   {
    "_defaultOrder": 41,
    "_isFastLaunch": false,
    "category": "Memory Optimized",
    "gpuNum": 0,
    "memoryGiB": 128,
    "name": "ml.r5.4xlarge",
    "vcpuNum": 16
   },
   {
    "_defaultOrder": 42,
    "_isFastLaunch": false,
    "category": "Memory Optimized",
    "gpuNum": 0,
    "memoryGiB": 256,
    "name": "ml.r5.8xlarge",
    "vcpuNum": 32
   },
   {
    "_defaultOrder": 43,
    "_isFastLaunch": false,
    "category": "Memory Optimized",
    "gpuNum": 0,
    "memoryGiB": 384,
    "name": "ml.r5.12xlarge",
    "vcpuNum": 48
   },
   {
    "_defaultOrder": 44,
    "_isFastLaunch": false,
    "category": "Memory Optimized",
    "gpuNum": 0,
    "memoryGiB": 512,
    "name": "ml.r5.16xlarge",
    "vcpuNum": 64
   },
   {
    "_defaultOrder": 45,
    "_isFastLaunch": false,
    "category": "Memory Optimized",
    "gpuNum": 0,
    "memoryGiB": 768,
    "name": "ml.r5.24xlarge",
    "vcpuNum": 96
   },
   {
    "_defaultOrder": 46,
    "_isFastLaunch": false,
    "category": "Accelerated computing",
    "gpuNum": 1,
    "memoryGiB": 16,
    "name": "ml.g5.xlarge",
    "vcpuNum": 4
   },
   {
    "_defaultOrder": 47,
    "_isFastLaunch": false,
    "category": "Accelerated computing",
    "gpuNum": 1,
    "memoryGiB": 32,
    "name": "ml.g5.2xlarge",
    "vcpuNum": 8
   },
   {
    "_defaultOrder": 48,
    "_isFastLaunch": false,
    "category": "Accelerated computing",
    "gpuNum": 1,
    "memoryGiB": 64,
    "name": "ml.g5.4xlarge",
    "vcpuNum": 16
   },
   {
    "_defaultOrder": 49,
    "_isFastLaunch": false,
    "category": "Accelerated computing",
    "gpuNum": 1,
    "memoryGiB": 128,
    "name": "ml.g5.8xlarge",
    "vcpuNum": 32
   },
   {
    "_defaultOrder": 50,
    "_isFastLaunch": false,
    "category": "Accelerated computing",
    "gpuNum": 1,
    "memoryGiB": 256,
    "name": "ml.g5.16xlarge",
    "vcpuNum": 64
   },
   {
    "_defaultOrder": 51,
    "_isFastLaunch": false,
    "category": "Accelerated computing",
    "gpuNum": 4,
    "memoryGiB": 192,
    "name": "ml.g5.12xlarge",
    "vcpuNum": 48
   },
   {
    "_defaultOrder": 52,
    "_isFastLaunch": false,
    "category": "Accelerated computing",
    "gpuNum": 4,
    "memoryGiB": 384,
    "name": "ml.g5.24xlarge",
    "vcpuNum": 96
   },
   {
    "_defaultOrder": 53,
    "_isFastLaunch": false,
    "category": "Accelerated computing",
    "gpuNum": 8,
    "memoryGiB": 768,
    "name": "ml.g5.48xlarge",
    "vcpuNum": 192
   }
  ],
  "instance_type": "ml.t3.medium",
  "kernelspec": {
   "display_name": "R 4.2.2 (arn:aws:sagemaker:us-east-1:081325390199:image/datascience-1.0)",
   "language": "R",
   "name": "ir42__SAGEMAKER_INTERNAL__arn:aws:sagemaker:us-east-1:081325390199:image/datascience-1.0"
  },
  "language_info": {
   "codemirror_mode": "r",
   "file_extension": ".r",
   "mimetype": "text/x-r-source",
   "name": "R",
   "pygments_lexer": "r",
   "version": "3.6.1"
  },
  "toc-autonumbering": true,
  "toc-showcode": true,
  "toc-showmarkdowntxt": true
 },
 "nbformat": 4,
 "nbformat_minor": 5
}
