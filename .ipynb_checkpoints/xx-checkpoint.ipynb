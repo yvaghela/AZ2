{
 "cells": [
  {
   "cell_type": "code",
   "execution_count": 5,
   "id": "f69e9afe-8461-46ba-a57e-c6f273620d50",
   "metadata": {
    "tags": []
   },
   "outputs": [
    {
     "name": "stdout",
     "output_type": "stream",
     "text": [
      "Found existing installation: keyring 21.1.0\n",
      "Uninstalling keyring-21.1.0:\n",
      "  Successfully uninstalled keyring-21.1.0\n",
      "\u001b[33mWARNING: Running pip as the 'root' user can result in broken permissions and conflicting behaviour with the system package manager. It is recommended to use a virtual environment instead: https://pip.pypa.io/warnings/venv\u001b[0m\u001b[33m\n",
      "\u001b[0m"
     ]
    }
   ],
   "source": [
    "!pip uninstall keyring --yes"
   ]
  },
  {
   "cell_type": "code",
   "execution_count": 6,
   "id": "bfc7eb39-fb90-458e-ad46-d9f1b3573842",
   "metadata": {
    "tags": []
   },
   "outputs": [
    {
     "name": "stdout",
     "output_type": "stream",
     "text": [
      "Collecting keyring\n",
      "  Downloading keyring-23.13.1-py3-none-any.whl (37 kB)\n",
      "Collecting jaraco.classes\n",
      "  Downloading jaraco.classes-3.2.3-py3-none-any.whl (6.0 kB)\n",
      "Requirement already satisfied: jeepney>=0.4.2 in /opt/conda/lib/python3.7/site-packages (from keyring) (0.4.2)\n",
      "Collecting importlib-resources\n",
      "  Downloading importlib_resources-5.12.0-py3-none-any.whl (36 kB)\n",
      "Requirement already satisfied: importlib-metadata>=4.11.4 in /opt/conda/lib/python3.7/site-packages (from keyring) (6.0.0)\n",
      "Collecting SecretStorage>=3.2\n",
      "  Downloading SecretStorage-3.3.3-py3-none-any.whl (15 kB)\n",
      "Requirement already satisfied: zipp>=0.5 in /opt/conda/lib/python3.7/site-packages (from importlib-metadata>=4.11.4->keyring) (3.13.0)\n",
      "Requirement already satisfied: typing-extensions>=3.6.4 in /opt/conda/lib/python3.7/site-packages (from importlib-metadata>=4.11.4->keyring) (4.4.0)\n",
      "Requirement already satisfied: cryptography>=2.0 in /opt/conda/lib/python3.7/site-packages (from SecretStorage>=3.2->keyring) (39.0.1)\n",
      "Collecting jeepney>=0.4.2\n",
      "  Downloading jeepney-0.8.0-py3-none-any.whl (48 kB)\n",
      "\u001b[2K     \u001b[90m━━━━━━━━━━━━━━━━━━━━━━━━━━━━━━━━━━━━━━━━\u001b[0m \u001b[32m48.4/48.4 kB\u001b[0m \u001b[31m1.2 MB/s\u001b[0m eta \u001b[36m0:00:00\u001b[0m\n",
      "\u001b[?25hRequirement already satisfied: more-itertools in /opt/conda/lib/python3.7/site-packages (from jaraco.classes->keyring) (8.2.0)\n",
      "Requirement already satisfied: cffi>=1.12 in /opt/conda/lib/python3.7/site-packages (from cryptography>=2.0->SecretStorage>=3.2->keyring) (1.15.0)\n",
      "Requirement already satisfied: pycparser in /opt/conda/lib/python3.7/site-packages (from cffi>=1.12->cryptography>=2.0->SecretStorage>=3.2->keyring) (2.19)\n",
      "Installing collected packages: jeepney, jaraco.classes, importlib-resources, SecretStorage, keyring\n",
      "  Attempting uninstall: jeepney\n",
      "    Found existing installation: jeepney 0.4.2\n",
      "    Uninstalling jeepney-0.4.2:\n",
      "      Successfully uninstalled jeepney-0.4.2\n",
      "  Attempting uninstall: SecretStorage\n",
      "    Found existing installation: SecretStorage 3.1.2\n",
      "    Uninstalling SecretStorage-3.1.2:\n",
      "      Successfully uninstalled SecretStorage-3.1.2\n",
      "\u001b[31mERROR: pip's dependency resolver does not currently take into account all the packages that are installed. This behaviour is the source of the following dependency conflicts.\n",
      "spyder 4.0.1 requires pyqt5<5.13; python_version >= \"3\", which is not installed.\n",
      "spyder 4.0.1 requires pyqtwebengine<5.13; python_version >= \"3\", which is not installed.\n",
      "spyder 4.0.1 requires jedi==0.14.1, but you have jedi 0.18.2 which is incompatible.\u001b[0m\u001b[31m\n",
      "\u001b[0mSuccessfully installed SecretStorage-3.3.3 importlib-resources-5.12.0 jaraco.classes-3.2.3 jeepney-0.8.0 keyring-23.13.1\n",
      "\u001b[33mWARNING: Running pip as the 'root' user can result in broken permissions and conflicting behaviour with the system package manager. It is recommended to use a virtual environment instead: https://pip.pypa.io/warnings/venv\u001b[0m\u001b[33m\n",
      "\u001b[0m\n",
      "\u001b[1m[\u001b[0m\u001b[34;49mnotice\u001b[0m\u001b[1;39;49m]\u001b[0m\u001b[39;49m A new release of pip is available: \u001b[0m\u001b[31;49m23.0\u001b[0m\u001b[39;49m -> \u001b[0m\u001b[32;49m23.0.1\u001b[0m\n",
      "\u001b[1m[\u001b[0m\u001b[34;49mnotice\u001b[0m\u001b[1;39;49m]\u001b[0m\u001b[39;49m To update, run: \u001b[0m\u001b[32;49mpip install --upgrade pip\u001b[0m\n"
     ]
    }
   ],
   "source": [
    "!pip install keyring"
   ]
  },
  {
   "cell_type": "code",
   "execution_count": 4,
   "id": "dc6abe31-8992-40af-965d-4894c01bfa9e",
   "metadata": {
    "tags": []
   },
   "outputs": [
    {
     "name": "stdout",
     "output_type": "stream",
     "text": [
      "Requirement already satisfied: snowflake-connector-python in /opt/conda/lib/python3.7/site-packages (3.0.0)\n",
      "Requirement already satisfied: setuptools>34.0.0 in /opt/conda/lib/python3.7/site-packages (from snowflake-connector-python) (59.3.0)\n",
      "Requirement already satisfied: typing-extensions<5,>=4.3 in /opt/conda/lib/python3.7/site-packages (from snowflake-connector-python) (4.4.0)\n",
      "Requirement already satisfied: pycryptodomex!=3.5.0,<4.0.0,>=3.2 in /opt/conda/lib/python3.7/site-packages (from snowflake-connector-python) (3.17)\n",
      "Requirement already satisfied: cryptography<41.0.0,>=3.1.0 in /opt/conda/lib/python3.7/site-packages (from snowflake-connector-python) (39.0.1)\n",
      "Requirement already satisfied: filelock<4,>=3.5 in /opt/conda/lib/python3.7/site-packages (from snowflake-connector-python) (3.9.0)\n",
      "Requirement already satisfied: charset-normalizer<3,>=2 in /opt/conda/lib/python3.7/site-packages (from snowflake-connector-python) (2.0.4)\n",
      "Requirement already satisfied: idna<4,>=2.5 in /opt/conda/lib/python3.7/site-packages (from snowflake-connector-python) (2.8)\n",
      "Requirement already satisfied: urllib3<1.27,>=1.21.1 in /opt/conda/lib/python3.7/site-packages (from snowflake-connector-python) (1.26.14)\n",
      "Requirement already satisfied: cffi<2.0.0,>=1.9 in /opt/conda/lib/python3.7/site-packages (from snowflake-connector-python) (1.15.0)\n",
      "Requirement already satisfied: asn1crypto<2.0.0,>0.24.0 in /opt/conda/lib/python3.7/site-packages (from snowflake-connector-python) (1.5.1)\n",
      "Requirement already satisfied: certifi>=2017.4.17 in /opt/conda/lib/python3.7/site-packages (from snowflake-connector-python) (2022.12.7)\n",
      "Requirement already satisfied: oscrypto<2.0.0 in /opt/conda/lib/python3.7/site-packages (from snowflake-connector-python) (1.3.0)\n",
      "Requirement already satisfied: pyOpenSSL<24.0.0,>=16.2.0 in /opt/conda/lib/python3.7/site-packages (from snowflake-connector-python) (23.0.0)\n",
      "Requirement already satisfied: pyjwt<3.0.0 in /opt/conda/lib/python3.7/site-packages (from snowflake-connector-python) (2.6.0)\n",
      "Requirement already satisfied: requests<3.0.0 in /opt/conda/lib/python3.7/site-packages (from snowflake-connector-python) (2.28.2)\n",
      "Requirement already satisfied: pytz in /opt/conda/lib/python3.7/site-packages (from snowflake-connector-python) (2019.3)\n",
      "Requirement already satisfied: pycparser in /opt/conda/lib/python3.7/site-packages (from cffi<2.0.0,>=1.9->snowflake-connector-python) (2.19)\n",
      "\u001b[33mWARNING: Running pip as the 'root' user can result in broken permissions and conflicting behaviour with the system package manager. It is recommended to use a virtual environment instead: https://pip.pypa.io/warnings/venv\u001b[0m\u001b[33m\n",
      "\u001b[0m\n",
      "\u001b[1m[\u001b[0m\u001b[34;49mnotice\u001b[0m\u001b[1;39;49m]\u001b[0m\u001b[39;49m A new release of pip is available: \u001b[0m\u001b[31;49m23.0\u001b[0m\u001b[39;49m -> \u001b[0m\u001b[32;49m23.0.1\u001b[0m\n",
      "\u001b[1m[\u001b[0m\u001b[34;49mnotice\u001b[0m\u001b[1;39;49m]\u001b[0m\u001b[39;49m To update, run: \u001b[0m\u001b[32;49mpip install --upgrade pip\u001b[0m\n"
     ]
    }
   ],
   "source": [
    "!pip install --upgrade snowflake-connector-python"
   ]
  },
  {
   "cell_type": "code",
   "execution_count": 4,
   "id": "f40b9e15-0288-4b09-9ccd-2cbe8dc420a5",
   "metadata": {
    "tags": []
   },
   "outputs": [],
   "source": [
    "import pandas as pd\n",
    "import snowflake.connector"
   ]
  },
  {
   "cell_type": "code",
   "execution_count": 5,
   "id": "e119886b-edee-46a9-b19b-a075cfaae112",
   "metadata": {
    "tags": []
   },
   "outputs": [],
   "source": [
    "ctx = snowflake.connector.connect(\n",
    "    user='yashrajsingh',\n",
    "    password='Unlock2?',\n",
    "    account='fk72744.us-east-2.aws',\n",
    "    role = 'ACCOUNTADMIN',\n",
    "    warehouse = 'COMPUTE_WH',\n",
    "    database = 'HRPCI', \n",
    "    schema = 'GRATICULESOW3'\n",
    ")"
   ]
  },
  {
   "cell_type": "code",
   "execution_count": 21,
   "id": "8cbd562e-b1f0-4ae9-8f76-35e82ed7a38d",
   "metadata": {
    "tags": []
   },
   "outputs": [],
   "source": [
    "EVU_STRINGS = ['%Evusheld%', '%tixagev%', '%cilgav%']"
   ]
  },
  {
   "cell_type": "code",
   "execution_count": 22,
   "id": "fd740185-734e-49db-8643-a15916960a5c",
   "metadata": {
    "tags": []
   },
   "outputs": [],
   "source": [
    "EVU_NDC = ['0310744202','0310889501','0310106101','0310886102','00310744202','00310889501','00310106101','00310886102']"
   ]
  },
  {
   "cell_type": "code",
   "execution_count": 23,
   "id": "bf0dd826-9189-4ee5-b9c5-3e3725da8cf8",
   "metadata": {
    "tags": []
   },
   "outputs": [],
   "source": [
    "EVU_NDC = ['0310744202','0310889501','0310106101','0310886102','00310744202','00310889501','00310106101','00310886102']"
   ]
  },
  {
   "cell_type": "code",
   "execution_count": 24,
   "id": "a8b9657e-f043-43ac-9ffa-b0ce6fa6d6b9",
   "metadata": {
    "tags": []
   },
   "outputs": [],
   "source": [
    "evu_exposure_subqueries = [\n",
    "    \"\"\"\n",
    "    SELECT pr.DataOwnerId, \n",
    "    p.MasterPatientId,\n",
    "    COALESCE(pr.PxDate, e.EncounterDate, e.AdmitDate, e.DischargeDate) AS exposuredate,\n",
    "    'PROCEDURES' AS exposuretype\n",
    "    FROM VW_DEID_PROCEDURES pr\n",
    "    INNER JOIN VW_DEID_PATIENTS p ON pr.DataOwnerId = p.DataOwnerId AND pr.PatientId = p.PatientId\n",
    "    LEFT JOIN VW_DEID_ENCOUNTERS e ON pr.DataOwnerId = e.DataOwnerId AND pr.EncounterId = e.EncounterId\n",
    "    WHERE \n",
    "        COALESCE(pr.PxDate, e.EncounterDate, e.AdmitDate, e.DischargeDate) BETWEEN TO_DATE(%(START_DATE)s) AND TO_DATE(%(END_DATE)s)\n",
    "        AND (pr.SourcePxCodeDescription ILIKE ANY (%(NAME)s)\n",
    "        OR pr.PxCode ILIKE ANY (%(PX)s))\n",
    "    \"\"\",\n",
    "    \"\"\"\n",
    "    SELECT b.DataOwnerId, \n",
    "    p.MasterPatientId,\n",
    "    COALESCE(b.ServiceDate, e.EncounterDate, e.AdmitDate, e.DischargeDate) AS exposuredate,\n",
    "    'BILLINGS' AS exposuretype\n",
    "    FROM VW_DEID_PATIENTS p\n",
    "    INNER JOIN VW_DEID_BILLINGS b ON p.DataOwnerId = b.DataOwnerId AND b.PatientId = p.PatientId \n",
    "    LEFT JOIN VW_DEID_ENCOUNTERS e ON b.DataOwnerId = e.DataOwnerId AND b.EncounterId = e.EncounterId\n",
    "    WHERE\n",
    "        COALESCE(b.ServiceDate, e.EncounterDate, e.AdmitDate, e.DischargeDate) BETWEEN TO_DATE(%(START_DATE)s) AND TO_DATE(%(END_DATE)s)\n",
    "        AND (b.BillingProcedureDescription ILIKE ANY (%(NAME)s) \n",
    "        OR b.MedicationName ILIKE ANY (%(NAME)s)\n",
    "        OR b.BillingProcedureCode ILIKE ANY (%(PX)s))\n",
    "    \"\"\",\n",
    "    \"\"\"\n",
    "    SELECT mo.DataOwnerId AS DataOwnerId,\n",
    "    p.MasterPatientId,\n",
    "    COALESCE(mo.OrderDate, e.AdmitDate, e.EncounterDate, e.DischargeDate) AS exposuredate,\n",
    "    'MEDORDERS' AS exposuretype\n",
    "    FROM VW_DEID_MEDORDERS mo\n",
    "    INNER JOIN VW_DEID_PATIENTS p ON mo.DataOwnerId = p.DataOwnerId AND mo.PatientId = p.PatientId\n",
    "    LEFT JOIN VW_DEID_ENCOUNTERS e ON mo.DataOwnerId = e.DataOwnerId AND mo.EncounterId = e.EncounterId\n",
    "    WHERE\n",
    "        COALESCE(mo.OrderDate, e.AdmitDate, e.EncounterDate, e.DischargeDate) BETWEEN TO_DATE(%(START_DATE)s) AND TO_DATE(%(END_DATE)s)\n",
    "        AND (mo.SourceRxMedName ILIKE ANY (%(NAME)s)\n",
    "        OR (mo.SourceRxCodeType = 'NDC' AND REPLACE(mo.SourceRxCode, '-') ILIKE ANY (%(NDC)s)))\n",
    "\n",
    "    \"\"\",\n",
    "    \"\"\"\n",
    "    SELECT mf.DataOwnerId AS DataOwnerId,\n",
    "    p.MasterPatientId,\n",
    "    mf.FilledDate AS exposuredate,\n",
    "    'MEDFILLS' AS exposuretype\n",
    "    FROM VW_DEID_MEDFILLS mf\n",
    "    INNER JOIN VW_DEID_PATIENTS p ON mf.DataOwnerId = p.DataOwnerId AND mf.PatientId = p.PatientId\n",
    "    WHERE \n",
    "        mf.FilledDate BETWEEN TO_DATE(%(START_DATE)s) AND TO_DATE(%(END_DATE)s)\n",
    "        AND (mf.SourceDrugName ILIKE ANY (%(NAME)s)\n",
    "        OR REPLACE(mf.NDC, '-') ILIKE ANY (%(NDC)s))\n",
    "    \"\"\",\n",
    "    \"\"\"\n",
    "    SELECT ma.DataOwnerId AS DataOwnerId,\n",
    "    p.MasterPatientId AS MasterPatientId,\n",
    "    COALESCE(ma.MedAdminStartDate, e.AdmitDate, e.EncounterDate, e.DischargeDate) AS exposuredate,\n",
    "    'MEDADMINS' AS exposuretype\n",
    "    FROM VW_DEID_MEDADMINS ma\n",
    "    INNER JOIN VW_DEID_PATIENTS p ON ma.DataOwnerId = p.DataOwnerId AND ma.PatientId = p.PatientId\n",
    "    LEFT JOIN VW_DEID_ENCOUNTERS e ON ma.DataOwnerId = e.DataOwnerId AND ma.EncounterId = e.EncounterId\n",
    "    WHERE \n",
    "        COALESCE(ma.MedAdminStartDate, e.AdmitDate, e.EncounterDate, e.DischargeDate) BETWEEN TO_DATE(%(START_DATE)s) AND TO_DATE(%(END_DATE)s)\n",
    "        AND (ma.SourceMedAdminMedName ILIKE ANY (%(NAME)s)\n",
    "        OR REPLACE(ma.NDC, '-') ILIKE ANY (%(NDC)s))\n",
    "    \"\"\",\n",
    "]"
   ]
  },
  {
   "cell_type": "code",
   "execution_count": 25,
   "id": "48f69f80-a356-4b97-a224-285f86448494",
   "metadata": {
    "tags": []
   },
   "outputs": [],
   "source": [
    "evu_exposure_query = \"UNION\".join(evu_exposure_subqueries)"
   ]
  },
  {
   "cell_type": "code",
   "execution_count": 5,
   "id": "b8f37763-0c93-446b-98f3-b9548c71e149",
   "metadata": {
    "tags": []
   },
   "outputs": [
    {
     "ename": "NameError",
     "evalue": "name 'evu_exposure_query' is not defined",
     "output_type": "error",
     "traceback": [
      "\u001b[0;31m---------------------------------------------------------------------------\u001b[0m",
      "\u001b[0;31mNameError\u001b[0m                                 Traceback (most recent call last)",
      "\u001b[0;32m<ipython-input-5-d8056a20098b>\u001b[0m in \u001b[0;36m<module>\u001b[0;34m\u001b[0m\n\u001b[0;32m----> 1\u001b[0;31m exposure_df = ctx.cursor().execute(evu_exposure_query, {\n\u001b[0m\u001b[1;32m      2\u001b[0m     \u001b[0;34m'START_DATE'\u001b[0m\u001b[0;34m:\u001b[0m \u001b[0mSTART_DATE\u001b[0m\u001b[0;34m,\u001b[0m\u001b[0;34m\u001b[0m\u001b[0;34m\u001b[0m\u001b[0m\n\u001b[1;32m      3\u001b[0m     \u001b[0;34m'END_DATE'\u001b[0m\u001b[0;34m:\u001b[0m \u001b[0mEND_DATE\u001b[0m\u001b[0;34m,\u001b[0m\u001b[0;34m\u001b[0m\u001b[0;34m\u001b[0m\u001b[0m\n\u001b[1;32m      4\u001b[0m     \u001b[0;34m'NAME'\u001b[0m\u001b[0;34m:\u001b[0m \u001b[0mEVU_STRINGS\u001b[0m\u001b[0;34m,\u001b[0m\u001b[0;34m\u001b[0m\u001b[0;34m\u001b[0m\u001b[0m\n\u001b[1;32m      5\u001b[0m     \u001b[0;34m'NDC'\u001b[0m\u001b[0;34m:\u001b[0m \u001b[0mEVU_NDC\u001b[0m\u001b[0;34m,\u001b[0m\u001b[0;34m\u001b[0m\u001b[0;34m\u001b[0m\u001b[0m\n",
      "\u001b[0;31mNameError\u001b[0m: name 'evu_exposure_query' is not defined"
     ]
    }
   ],
   "source": [
    "exposure_df = ctx.cursor().execute(evu_exposure_query, {\n",
    "    'START_DATE': START_DATE,\n",
    "    'END_DATE': END_DATE,\n",
    "    'NAME': EVU_STRINGS, \n",
    "    'NDC': EVU_NDC,\n",
    "    'PX': PROCEDURE_HCPCS,\n",
    "}).fetch_pandas_all()"
   ]
  },
  {
   "cell_type": "code",
   "execution_count": 3,
   "id": "41e56ff3-bf05-4890-baa8-5657f9a61c2f",
   "metadata": {
    "tags": []
   },
   "outputs": [
    {
     "ename": "NameError",
     "evalue": "name 'ctx' is not defined",
     "output_type": "error",
     "traceback": [
      "\u001b[0;31m---------------------------------------------------------------------------\u001b[0m",
      "\u001b[0;31mNameError\u001b[0m                                 Traceback (most recent call last)",
      "\u001b[0;32m<ipython-input-3-48aefb7174f7>\u001b[0m in \u001b[0;36m<module>\u001b[0;34m\u001b[0m\n\u001b[0;32m----> 1\u001b[0;31m \u001b[0mdf1\u001b[0m \u001b[0;34m=\u001b[0m \u001b[0mctx\u001b[0m\u001b[0;34m.\u001b[0m\u001b[0mcursor\u001b[0m\u001b[0;34m(\u001b[0m\u001b[0;34m)\u001b[0m\u001b[0;34m.\u001b[0m\u001b[0mexecute\u001b[0m\u001b[0;34m(\u001b[0m\u001b[0;34m\"SELECT * FROM VW_DEID_MEDADMINS limit 10\"\u001b[0m\u001b[0;34m)\u001b[0m\u001b[0;34m.\u001b[0m\u001b[0mfetch_pandas_all\u001b[0m\u001b[0;34m(\u001b[0m\u001b[0;34m)\u001b[0m\u001b[0;34m\u001b[0m\u001b[0;34m\u001b[0m\u001b[0m\n\u001b[0m",
      "\u001b[0;31mNameError\u001b[0m: name 'ctx' is not defined"
     ]
    }
   ],
   "source": [
    "df1 = ctx.cursor().execute(\"SELECT * FROM VW_DEID_MEDADMINS limit 10\").fetch_pandas_all()"
   ]
  },
  {
   "cell_type": "code",
   "execution_count": 6,
   "id": "36d31467-5d28-48a1-a165-974dd0752ae8",
   "metadata": {},
   "outputs": [
    {
     "ename": "NameError",
     "evalue": "name 'df1' is not defined",
     "output_type": "error",
     "traceback": [
      "\u001b[0;31m---------------------------------------------------------------------------\u001b[0m",
      "\u001b[0;31mNameError\u001b[0m                                 Traceback (most recent call last)",
      "Cell \u001b[0;32mIn[6], line 1\u001b[0m\n\u001b[0;32m----> 1\u001b[0m \u001b[43mdf1\u001b[49m\n",
      "\u001b[0;31mNameError\u001b[0m: name 'df1' is not defined"
     ]
    }
   ],
   "source": [
    "df1"
   ]
  },
  {
   "cell_type": "code",
   "execution_count": null,
   "id": "3ea899e5-a27e-4197-a43d-6ecc87ae0110",
   "metadata": {},
   "outputs": [],
   "source": []
  },
  {
   "cell_type": "code",
   "execution_count": null,
   "id": "70ee1ed8-c303-4b20-8511-77c30f829f2b",
   "metadata": {},
   "outputs": [],
   "source": []
  }
 ],
 "metadata": {
  "availableInstances": [
   {
    "_defaultOrder": 0,
    "_isFastLaunch": true,
    "category": "General purpose",
    "gpuNum": 0,
    "memoryGiB": 4,
    "name": "ml.t3.medium",
    "vcpuNum": 2
   },
   {
    "_defaultOrder": 1,
    "_isFastLaunch": false,
    "category": "General purpose",
    "gpuNum": 0,
    "memoryGiB": 8,
    "name": "ml.t3.large",
    "vcpuNum": 2
   },
   {
    "_defaultOrder": 2,
    "_isFastLaunch": false,
    "category": "General purpose",
    "gpuNum": 0,
    "memoryGiB": 16,
    "name": "ml.t3.xlarge",
    "vcpuNum": 4
   },
   {
    "_defaultOrder": 3,
    "_isFastLaunch": false,
    "category": "General purpose",
    "gpuNum": 0,
    "memoryGiB": 32,
    "name": "ml.t3.2xlarge",
    "vcpuNum": 8
   },
   {
    "_defaultOrder": 4,
    "_isFastLaunch": true,
    "category": "General purpose",
    "gpuNum": 0,
    "memoryGiB": 8,
    "name": "ml.m5.large",
    "vcpuNum": 2
   },
   {
    "_defaultOrder": 5,
    "_isFastLaunch": false,
    "category": "General purpose",
    "gpuNum": 0,
    "memoryGiB": 16,
    "name": "ml.m5.xlarge",
    "vcpuNum": 4
   },
   {
    "_defaultOrder": 6,
    "_isFastLaunch": false,
    "category": "General purpose",
    "gpuNum": 0,
    "memoryGiB": 32,
    "name": "ml.m5.2xlarge",
    "vcpuNum": 8
   },
   {
    "_defaultOrder": 7,
    "_isFastLaunch": false,
    "category": "General purpose",
    "gpuNum": 0,
    "memoryGiB": 64,
    "name": "ml.m5.4xlarge",
    "vcpuNum": 16
   },
   {
    "_defaultOrder": 8,
    "_isFastLaunch": false,
    "category": "General purpose",
    "gpuNum": 0,
    "memoryGiB": 128,
    "name": "ml.m5.8xlarge",
    "vcpuNum": 32
   },
   {
    "_defaultOrder": 9,
    "_isFastLaunch": false,
    "category": "General purpose",
    "gpuNum": 0,
    "memoryGiB": 192,
    "name": "ml.m5.12xlarge",
    "vcpuNum": 48
   },
   {
    "_defaultOrder": 10,
    "_isFastLaunch": false,
    "category": "General purpose",
    "gpuNum": 0,
    "memoryGiB": 256,
    "name": "ml.m5.16xlarge",
    "vcpuNum": 64
   },
   {
    "_defaultOrder": 11,
    "_isFastLaunch": false,
    "category": "General purpose",
    "gpuNum": 0,
    "memoryGiB": 384,
    "name": "ml.m5.24xlarge",
    "vcpuNum": 96
   },
   {
    "_defaultOrder": 12,
    "_isFastLaunch": false,
    "category": "General purpose",
    "gpuNum": 0,
    "memoryGiB": 8,
    "name": "ml.m5d.large",
    "vcpuNum": 2
   },
   {
    "_defaultOrder": 13,
    "_isFastLaunch": false,
    "category": "General purpose",
    "gpuNum": 0,
    "memoryGiB": 16,
    "name": "ml.m5d.xlarge",
    "vcpuNum": 4
   },
   {
    "_defaultOrder": 14,
    "_isFastLaunch": false,
    "category": "General purpose",
    "gpuNum": 0,
    "memoryGiB": 32,
    "name": "ml.m5d.2xlarge",
    "vcpuNum": 8
   },
   {
    "_defaultOrder": 15,
    "_isFastLaunch": false,
    "category": "General purpose",
    "gpuNum": 0,
    "memoryGiB": 64,
    "name": "ml.m5d.4xlarge",
    "vcpuNum": 16
   },
   {
    "_defaultOrder": 16,
    "_isFastLaunch": false,
    "category": "General purpose",
    "gpuNum": 0,
    "memoryGiB": 128,
    "name": "ml.m5d.8xlarge",
    "vcpuNum": 32
   },
   {
    "_defaultOrder": 17,
    "_isFastLaunch": false,
    "category": "General purpose",
    "gpuNum": 0,
    "memoryGiB": 192,
    "name": "ml.m5d.12xlarge",
    "vcpuNum": 48
   },
   {
    "_defaultOrder": 18,
    "_isFastLaunch": false,
    "category": "General purpose",
    "gpuNum": 0,
    "memoryGiB": 256,
    "name": "ml.m5d.16xlarge",
    "vcpuNum": 64
   },
   {
    "_defaultOrder": 19,
    "_isFastLaunch": false,
    "category": "General purpose",
    "gpuNum": 0,
    "memoryGiB": 384,
    "name": "ml.m5d.24xlarge",
    "vcpuNum": 96
   },
   {
    "_defaultOrder": 20,
    "_isFastLaunch": true,
    "category": "Compute optimized",
    "gpuNum": 0,
    "memoryGiB": 4,
    "name": "ml.c5.large",
    "vcpuNum": 2
   },
   {
    "_defaultOrder": 21,
    "_isFastLaunch": false,
    "category": "Compute optimized",
    "gpuNum": 0,
    "memoryGiB": 8,
    "name": "ml.c5.xlarge",
    "vcpuNum": 4
   },
   {
    "_defaultOrder": 22,
    "_isFastLaunch": false,
    "category": "Compute optimized",
    "gpuNum": 0,
    "memoryGiB": 16,
    "name": "ml.c5.2xlarge",
    "vcpuNum": 8
   },
   {
    "_defaultOrder": 23,
    "_isFastLaunch": false,
    "category": "Compute optimized",
    "gpuNum": 0,
    "memoryGiB": 32,
    "name": "ml.c5.4xlarge",
    "vcpuNum": 16
   },
   {
    "_defaultOrder": 24,
    "_isFastLaunch": false,
    "category": "Compute optimized",
    "gpuNum": 0,
    "memoryGiB": 72,
    "name": "ml.c5.9xlarge",
    "vcpuNum": 36
   },
   {
    "_defaultOrder": 25,
    "_isFastLaunch": false,
    "category": "Compute optimized",
    "gpuNum": 0,
    "memoryGiB": 96,
    "name": "ml.c5.12xlarge",
    "vcpuNum": 48
   },
   {
    "_defaultOrder": 26,
    "_isFastLaunch": false,
    "category": "Compute optimized",
    "gpuNum": 0,
    "memoryGiB": 144,
    "name": "ml.c5.18xlarge",
    "vcpuNum": 72
   },
   {
    "_defaultOrder": 27,
    "_isFastLaunch": false,
    "category": "Compute optimized",
    "gpuNum": 0,
    "memoryGiB": 192,
    "name": "ml.c5.24xlarge",
    "vcpuNum": 96
   },
   {
    "_defaultOrder": 28,
    "_isFastLaunch": true,
    "category": "Accelerated computing",
    "gpuNum": 1,
    "memoryGiB": 16,
    "name": "ml.g4dn.xlarge",
    "vcpuNum": 4
   },
   {
    "_defaultOrder": 29,
    "_isFastLaunch": false,
    "category": "Accelerated computing",
    "gpuNum": 1,
    "memoryGiB": 32,
    "name": "ml.g4dn.2xlarge",
    "vcpuNum": 8
   },
   {
    "_defaultOrder": 30,
    "_isFastLaunch": false,
    "category": "Accelerated computing",
    "gpuNum": 1,
    "memoryGiB": 64,
    "name": "ml.g4dn.4xlarge",
    "vcpuNum": 16
   },
   {
    "_defaultOrder": 31,
    "_isFastLaunch": false,
    "category": "Accelerated computing",
    "gpuNum": 1,
    "memoryGiB": 128,
    "name": "ml.g4dn.8xlarge",
    "vcpuNum": 32
   },
   {
    "_defaultOrder": 32,
    "_isFastLaunch": false,
    "category": "Accelerated computing",
    "gpuNum": 4,
    "memoryGiB": 192,
    "name": "ml.g4dn.12xlarge",
    "vcpuNum": 48
   },
   {
    "_defaultOrder": 33,
    "_isFastLaunch": false,
    "category": "Accelerated computing",
    "gpuNum": 1,
    "memoryGiB": 256,
    "name": "ml.g4dn.16xlarge",
    "vcpuNum": 64
   },
   {
    "_defaultOrder": 34,
    "_isFastLaunch": false,
    "category": "Accelerated computing",
    "gpuNum": 1,
    "memoryGiB": 61,
    "name": "ml.p3.2xlarge",
    "vcpuNum": 8
   },
   {
    "_defaultOrder": 35,
    "_isFastLaunch": false,
    "category": "Accelerated computing",
    "gpuNum": 4,
    "memoryGiB": 244,
    "name": "ml.p3.8xlarge",
    "vcpuNum": 32
   },
   {
    "_defaultOrder": 36,
    "_isFastLaunch": false,
    "category": "Accelerated computing",
    "gpuNum": 8,
    "memoryGiB": 488,
    "name": "ml.p3.16xlarge",
    "vcpuNum": 64
   },
   {
    "_defaultOrder": 37,
    "_isFastLaunch": false,
    "category": "Accelerated computing",
    "gpuNum": 8,
    "memoryGiB": 768,
    "name": "ml.p3dn.24xlarge",
    "vcpuNum": 96
   },
   {
    "_defaultOrder": 38,
    "_isFastLaunch": false,
    "category": "Memory Optimized",
    "gpuNum": 0,
    "memoryGiB": 16,
    "name": "ml.r5.large",
    "vcpuNum": 2
   },
   {
    "_defaultOrder": 39,
    "_isFastLaunch": false,
    "category": "Memory Optimized",
    "gpuNum": 0,
    "memoryGiB": 32,
    "name": "ml.r5.xlarge",
    "vcpuNum": 4
   },
   {
    "_defaultOrder": 40,
    "_isFastLaunch": false,
    "category": "Memory Optimized",
    "gpuNum": 0,
    "memoryGiB": 64,
    "name": "ml.r5.2xlarge",
    "vcpuNum": 8
   },
   {
    "_defaultOrder": 41,
    "_isFastLaunch": false,
    "category": "Memory Optimized",
    "gpuNum": 0,
    "memoryGiB": 128,
    "name": "ml.r5.4xlarge",
    "vcpuNum": 16
   },
   {
    "_defaultOrder": 42,
    "_isFastLaunch": false,
    "category": "Memory Optimized",
    "gpuNum": 0,
    "memoryGiB": 256,
    "name": "ml.r5.8xlarge",
    "vcpuNum": 32
   },
   {
    "_defaultOrder": 43,
    "_isFastLaunch": false,
    "category": "Memory Optimized",
    "gpuNum": 0,
    "memoryGiB": 384,
    "name": "ml.r5.12xlarge",
    "vcpuNum": 48
   },
   {
    "_defaultOrder": 44,
    "_isFastLaunch": false,
    "category": "Memory Optimized",
    "gpuNum": 0,
    "memoryGiB": 512,
    "name": "ml.r5.16xlarge",
    "vcpuNum": 64
   },
   {
    "_defaultOrder": 45,
    "_isFastLaunch": false,
    "category": "Memory Optimized",
    "gpuNum": 0,
    "memoryGiB": 768,
    "name": "ml.r5.24xlarge",
    "vcpuNum": 96
   },
   {
    "_defaultOrder": 46,
    "_isFastLaunch": false,
    "category": "Accelerated computing",
    "gpuNum": 1,
    "memoryGiB": 16,
    "name": "ml.g5.xlarge",
    "vcpuNum": 4
   },
   {
    "_defaultOrder": 47,
    "_isFastLaunch": false,
    "category": "Accelerated computing",
    "gpuNum": 1,
    "memoryGiB": 32,
    "name": "ml.g5.2xlarge",
    "vcpuNum": 8
   },
   {
    "_defaultOrder": 48,
    "_isFastLaunch": false,
    "category": "Accelerated computing",
    "gpuNum": 1,
    "memoryGiB": 64,
    "name": "ml.g5.4xlarge",
    "vcpuNum": 16
   },
   {
    "_defaultOrder": 49,
    "_isFastLaunch": false,
    "category": "Accelerated computing",
    "gpuNum": 1,
    "memoryGiB": 128,
    "name": "ml.g5.8xlarge",
    "vcpuNum": 32
   },
   {
    "_defaultOrder": 50,
    "_isFastLaunch": false,
    "category": "Accelerated computing",
    "gpuNum": 1,
    "memoryGiB": 256,
    "name": "ml.g5.16xlarge",
    "vcpuNum": 64
   },
   {
    "_defaultOrder": 51,
    "_isFastLaunch": false,
    "category": "Accelerated computing",
    "gpuNum": 4,
    "memoryGiB": 192,
    "name": "ml.g5.12xlarge",
    "vcpuNum": 48
   },
   {
    "_defaultOrder": 52,
    "_isFastLaunch": false,
    "category": "Accelerated computing",
    "gpuNum": 4,
    "memoryGiB": 384,
    "name": "ml.g5.24xlarge",
    "vcpuNum": 96
   },
   {
    "_defaultOrder": 53,
    "_isFastLaunch": false,
    "category": "Accelerated computing",
    "gpuNum": 8,
    "memoryGiB": 768,
    "name": "ml.g5.48xlarge",
    "vcpuNum": 192
   }
  ],
  "instance_type": "ml.t3.medium",
  "kernelspec": {
   "display_name": "Python 3 (Data Science 2.0)",
   "language": "python",
   "name": "python3__SAGEMAKER_INTERNAL__arn:aws:sagemaker:us-east-1:081325390199:image/sagemaker-data-science-38"
  },
  "language_info": {
   "codemirror_mode": {
    "name": "ipython",
    "version": 3
   },
   "file_extension": ".py",
   "mimetype": "text/x-python",
   "name": "python",
   "nbconvert_exporter": "python",
   "pygments_lexer": "ipython3",
   "version": "3.8.13"
  }
 },
 "nbformat": 4,
 "nbformat_minor": 5
}
